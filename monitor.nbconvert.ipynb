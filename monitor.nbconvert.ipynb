{
 "cells": [
  {
   "cell_type": "markdown",
   "metadata": {
    "colab_type": "text",
    "id": "view-in-github"
   },
   "source": [
    "<a href=\"https://colab.research.google.com/github/K100NUNES/Ticket-Monitor/blob/main/monitor.ipynb\" target=\"_parent\"><img src=\"https://colab.research.google.com/assets/colab-badge.svg\" alt=\"Open In Colab\"/></a>"
   ]
  },
  {
   "cell_type": "code",
   "execution_count": 1,
   "metadata": {
    "execution": {
     "iopub.execute_input": "2023-12-24T22:52:39.304480Z",
     "iopub.status.busy": "2023-12-24T22:52:39.304028Z",
     "iopub.status.idle": "2023-12-24T22:52:39.307017Z",
     "shell.execute_reply": "2023-12-24T22:52:39.306570Z"
    },
    "id": "tsuEXpCR6DMv"
   },
   "outputs": [],
   "source": [
    "#!pip install slack-sdk\n",
    "#!pip install selenium\n",
    "#!pip install jupyter\n",
    "#!pip install Pillow"
   ]
  },
  {
   "cell_type": "code",
   "execution_count": 2,
   "metadata": {
    "execution": {
     "iopub.execute_input": "2023-12-24T22:52:39.309125Z",
     "iopub.status.busy": "2023-12-24T22:52:39.308801Z",
     "iopub.status.idle": "2023-12-24T22:52:47.202298Z",
     "shell.execute_reply": "2023-12-24T22:52:47.201687Z"
    },
    "id": "iSpMAz4dzlSd"
   },
   "outputs": [
    {
     "name": "stderr",
     "output_type": "stream",
     "text": [
      "/opt/hostedtoolcache/Python/3.11.4/x64/lib/python3.11/site-packages/slack_sdk/web/internal_utils.py:417: UserWarning: client.files_upload() may cause some issues like timeouts for relatively large files. Our latest recommendation is to use client.files_upload_v2(), which is mostly compatible and much stabler, instead.\n",
      "  warnings.warn(message)\n"
     ]
    }
   ],
   "source": [
    "from selenium import webdriver\n",
    "from PIL import Image, ImageChops\n",
    "from slack_sdk import WebClient\n",
    "from slack_sdk.errors import SlackApiError\n",
    "import os\n",
    "import datetime\n",
    "import time\n",
    "import io\n",
    "\n",
    "# Defina suas credenciais do Slack\n",
    "slack_token = os.environ.get(\"SLACK_TOKEN\")\n",
    "channel_id = os.environ.get(\"SLACK_CHANNEL\")\n",
    "bot_name = 'ticket_monitor'\n",
    "\n",
    "# Configurações do ChromeDriver para evitar travamentos\n",
    "chrome_options = webdriver.ChromeOptions()\n",
    "chrome_options.add_argument('--headless')\n",
    "chrome_options.add_argument('--disable-dev-shm-usage')\n",
    "chrome_options.add_argument('--no-sandbox')\n",
    "\n",
    "# Inicializar o driver do Chrome\n",
    "driver = webdriver.Chrome(options=chrome_options)\n",
    "\n",
    "# Abrir a página que você deseja monitorar\n",
    "url = \"https://spfc.totalacesso.com/\"\n",
    "driver.get(url)\n",
    "\n",
    "# Aumentar a largura e a altura da janela do navegador para capturar uma área maior\n",
    "driver.set_window_size(1920, 1080)  # Por exemplo, definindo para 1920x1080 pixels\n",
    "\n",
    "# Inicializar o cliente Slack\n",
    "slack_client = WebClient(token=slack_token)\n",
    "\n",
    "# Definir o arquivo de log\n",
    "log_file = 'monitoring_log.txt'\n",
    "\n",
    "def log_status(status):\n",
    "    timestamp = datetime.datetime.now().strftime(\"%Y-%m-%d %H:%M:%S\")\n",
    "    with open(log_file, 'a') as f:\n",
    "        f.write(f\"[{timestamp}] {status}\\n\")\n",
    "\n",
    "# Verificar se o screenshot inicial já foi enviado\n",
    "screenshot_inicial_enviado = os.path.isfile('screenshot_inicial_enviado.txt')\n",
    "\n",
    "# Lê o valor de primeira_execucao de um arquivo\n",
    "primeira_execucao = not screenshot_inicial_enviado\n",
    "\n",
    "# Capturar o screenshot inicial apenas uma vez na primeira execução\n",
    "if primeira_execucao:\n",
    "    driver.save_screenshot('screenshot_inicial.png')\n",
    "    initial_image = Image.open('screenshot_inicial.png')\n",
    "\n",
    "    try:\n",
    "        with open('screenshot_inicial.png', 'rb') as f:\n",
    "            response = slack_client.files_upload(\n",
    "                channels=channel_id,\n",
    "                file=io.BytesIO(f.read()),  # Enviar o screenshot inicial\n",
    "                filename=\"screenshot_inicial.png\",\n",
    "                title=\"Registro Inicial da Captura\",\n",
    "                initial_comment=\"Registro inicial da captura.\",\n",
    "                username=bot_name  # Defina o nome do bot aqui\n",
    "            )\n",
    "        log_status(\"Screenshot inicial enviado para o Slack.\")\n",
    "\n",
    "        # Marcar que o screenshot inicial foi enviado\n",
    "        with open('screenshot_inicial_enviado.txt', 'w') as f:\n",
    "            f.write('Enviado')\n",
    "    except SlackApiError as e:\n",
    "        log_status(f\"Erro ao enviar screenshot inicial para o Slack: {e.response['error']}\")\n",
    "\n",
    "while True:\n",
    "    # Capturar um novo screenshot após as ações de monitoramento\n",
    "    driver.save_screenshot('screenshot_apos_monitoramento.png')\n",
    "\n",
    "    # Comparar o screenshot atual com o screenshot inicial\n",
    "    new_image = Image.open('screenshot_apos_monitoramento.png')\n",
    "    diff = ImageChops.difference(initial_image, new_image)\n",
    "\n",
    "    # Se não for a primeira execução, verificar se há diferenças\n",
    "    # Se houver diferenças significativas, enviar notificação para o Slack\n",
    "    if not primeira_execucao and diff.getbbox():\n",
    "        # Enviar a notificação para o Slack com o novo screenshot\n",
    "        try:\n",
    "            with open('screenshot_apos_monitoramento.png', 'rb') as f:\n",
    "                response = slack_client.files_upload(\n",
    "                    channels=channel_id,\n",
    "                    file=io.BytesIO(f.read()),  # Enviar apenas a diferença detectada\n",
    "                    filename=\"screenshot_apos_monitoramento.png\",\n",
    "                    title=\"Diferença Detectada\",\n",
    "                    initial_comment=\"Uma diferença significativa foi detectada na página.\",\n",
    "                    username=bot_name  # Defina o nome do bot aqui\n",
    "                )\n",
    "            log_status(\"Diferença detectada. Notificação enviada para o Slack.\")\n",
    "        except SlackApiError as e:\n",
    "            log_status(f\"Erro ao enviar screenshot de diferença para o Slack: {e.response['error']}\")\n",
    "\n",
    "        # Atualizar o screenshot inicial\n",
    "        initial_image = new_image\n",
    "\n",
    "    # Se não for a primeira execução e não houver diferenças,\n",
    "    # envie uma mensagem informando que não houve alterações e encerre o programa\n",
    "    if not primeira_execucao and not diff.getbbox():\n",
    "        log_status(\"Nenhuma alteração significativa foi detectada na página.\")\n",
    "        try:\n",
    "            slack_client.chat_postMessage(\n",
    "                channel=channel_id,\n",
    "                text=\"Nenhuma alteração significativa foi detectada na página.\"\n",
    "            )\n",
    "        except SlackApiError as e:\n",
    "            log_status(f\"Erro ao enviar mensagem de status para o Slack: {e.response['error']}\")\n",
    "\n",
    "        # Fechar o driver do Chrome e encerrar o programa\n",
    "        driver.quit()\n",
    "        break\n",
    "\n",
    "    # Se for a primeira execução, atualize o valor de primeira_execucao\n",
    "    if primeira_execucao:\n",
    "        primeira_execucao = False\n",
    "\n"
   ]
  }
 ],
 "metadata": {
  "colab": {
   "authorship_tag": "ABX9TyMUv9zAaNooe33gHSWZGhAh",
   "include_colab_link": true,
   "provenance": []
  },
  "kernelspec": {
   "display_name": "Python 3",
   "name": "python3"
  },
  "language_info": {
   "codemirror_mode": {
    "name": "ipython",
    "version": 3
   },
   "file_extension": ".py",
   "mimetype": "text/x-python",
   "name": "python",
   "nbconvert_exporter": "python",
   "pygments_lexer": "ipython3",
   "version": "3.11.4"
  }
 },
 "nbformat": 4,
 "nbformat_minor": 0
}
